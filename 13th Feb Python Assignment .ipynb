{
 "cells": [
  {
   "cell_type": "markdown",
   "id": "25177081-ce67-472e-9e9a-d60ae95983b7",
   "metadata": {
    "tags": []
   },
   "source": [
    "# __Ques1__\n",
    "Inheriting from the Exception class allows our custom exception class to have access to all the methods and properties of the Exception class. We can then customize our custom exception by adding additional functionality specific to our needs.<br>\n",
    "By creating custom exceptions that inherit from the Exception class, we ensure that our exceptions can be caught and handled using the same mechanisms as the built-in exceptions.<br>\n",
    "It Provides the requiered methods for raising errors"
   ]
  },
  {
   "cell_type": "markdown",
   "id": "de99d02b-01bb-4189-b697-9b03b39928c0",
   "metadata": {},
   "source": [
    "# __Ques2__"
   ]
  },
  {
   "cell_type": "code",
   "execution_count": 3,
   "id": "ffa9e078-b55f-4710-85ae-90bfa2b094aa",
   "metadata": {},
   "outputs": [],
   "source": [
    "# Please run the code to see output as once runned file is not getting open in github \n",
    "def printExceptionHierarchy(exception_class, indent=0):\n",
    "    print(\" \" * indent + exception_class.__name__)\n",
    "    for subclass in exception_class.__subclasses__():\n",
    "        print_exception_hierarchy(subclass, indent + 4)"
   ]
  },
  {
   "cell_type": "code",
   "execution_count": 4,
   "id": "781e6743-3727-4cb8-86c3-6dd1bcc58e00",
   "metadata": {},
   "outputs": [
    {
     "name": "stdout",
     "output_type": "stream",
    }
   ],
   "source": [
    "printExceptionHierarchy(Exception)"
   ]
  },
  {
   "cell_type": "markdown",
   "id": "20a4b3d5-64ce-4b6c-bb1a-1de848d2458b",
   "metadata": {},
   "source": [
    "# __Ques3__\n",
    "There Error which are caused during an Airthemetic Operation which is syntax wise correct but gives wrong output or throws an error,\n",
    "<br>Two of them are :-\n",
    "1. ZeroDivisionError\n",
    "2. FloatingPointError"
   ]
  },
  {
   "cell_type": "code",
   "execution_count": 6,
   "id": "58af8cad-4875-4470-a2a5-f1d2a03f92e6",
   "metadata": {},
   "outputs": [
    {
     "ename": "ZeroDivisionError",
     "evalue": "division by zero",
     "output_type": "error",
     "traceback": [
      "\u001b[0;31m---------------------------------------------------------------------------\u001b[0m",
      "\u001b[0;31mZeroDivisionError\u001b[0m                         Traceback (most recent call last)",
      "Cell \u001b[0;32mIn[6], line 2\u001b[0m\n\u001b[1;32m      1\u001b[0m \u001b[38;5;66;03m# ZeroDivisionError\u001b[39;00m\n\u001b[0;32m----> 2\u001b[0m a \u001b[38;5;241m=\u001b[39m \u001b[38;5;241;43m10\u001b[39;49m\u001b[43m \u001b[49m\u001b[38;5;241;43m/\u001b[39;49m\u001b[43m \u001b[49m\u001b[38;5;241;43m0\u001b[39;49m\n",
      "\u001b[0;31mZeroDivisionError\u001b[0m: division by zero"
     ]
    }
   ],
   "source": [
    "# ZeroDivisionError\n",
    "a = 10 / 0"
   ]
  },
  {
   "cell_type": "code",
   "execution_count": 19,
   "id": "7008e089-4ed3-4dd1-a6ff-a3d8d190e4d3",
   "metadata": {},
   "outputs": [
    {
     "name": "stdout",
     "output_type": "stream",
     "text": [
      "0.05 + 0.1 = 0.15 but here the ans is  0.15000000000000002\n"
     ]
    }
   ],
   "source": [
    "# Foating point error\n",
    "a = 0.05\n",
    "b = 0.1\n",
    "c = a + b\n",
    "print('0.05 + 0.1 = 0.15 but here the ans is ' , c)"
   ]
  },
  {
   "cell_type": "markdown",
   "id": "ba3a7ae8-5f01-4f3b-9bac-5d597427d2de",
   "metadata": {},
   "source": [
    "# __Ques4__\n",
    "__LookupError__ is a built-in exception class in Python that serves as the base class for several other built-in exception classes related to lookup operations.\n",
    "1. __IndexError__: Raised when an index is not found in a sequence.\n",
    "2. __KeyError__: Raised when a key is not found in a dictionary."
   ]
  },
  {
   "cell_type": "code",
   "execution_count": 33,
   "id": "5d5e2b2c-5f1d-4acf-ac6b-aafd8ae52852",
   "metadata": {},
   "outputs": [
    {
     "name": "stdout",
     "output_type": "stream",
     "text": [
      "IndexError list index out of range\n"
     ]
    }
   ],
   "source": [
    "#IndexError: Raised when an index is not found in a sequence.\n",
    "try :\n",
    "    li = [1,2,3,4]\n",
    "    print(li[5])\n",
    "except IndexError as e:\n",
    "    print('IndexError' , e)"
   ]
  },
  {
   "cell_type": "code",
   "execution_count": 32,
   "id": "c2fc721b-aea9-49ba-9176-06b058adee30",
   "metadata": {},
   "outputs": [
    {
     "name": "stdout",
     "output_type": "stream",
     "text": [
      "KeyError :  5\n"
     ]
    }
   ],
   "source": [
    "#KeyError: Raised when a key is not found in a dictionary.\n",
    "try :\n",
    "    d = {1 : True , 'a' : False}\n",
    "    print(d[5])\n",
    "except KeyError as e:\n",
    "    print('KeyError : ' ,e)"
   ]
  },
  {
   "cell_type": "markdown",
   "id": "7192581b-e6cb-4f29-954b-e7ec20045d46",
   "metadata": {},
   "source": [
    "# __Ques5__\n",
    "__ImportError__ is a built-in exception class in Python that is raised when an import statement fails to import a module or a package."
   ]
  },
  {
   "cell_type": "code",
   "execution_count": 31,
   "id": "12717b77-a8c5-4a3e-b793-1badf77e7d1a",
   "metadata": {},
   "outputs": [
    {
     "name": "stdout",
     "output_type": "stream",
     "text": [
      "ModuleNotFoundError :  No module named 'a'\n"
     ]
    }
   ],
   "source": [
    "try :\n",
    "    import a\n",
    "except ModuleNotFoundError as e:\n",
    "    print('ModuleNotFoundError : ' ,e)"
   ]
  },
  {
   "cell_type": "markdown",
   "id": "b51bdcb4-e719-4a1c-958f-c071071a4f3c",
   "metadata": {},
   "source": [
    "# __Ques6__\n",
    "Following are some best practise for exception handling :-<br>\n",
    "1. __Use specific exceptions:__ When catching exceptions, it's best to catch specific exceptions instead of catching the base Exception class. This allows you to handle different exceptions differently, and provides more context to the error.\n",
    "2. __Use multiple except blocks:__ When handling different exceptions, use multiple except blocks instead of using a single except block with multiple exceptions. This makes the code easier to read and understand.\n",
    "3. __Keep the try block as small as possible:__ The try block should contain only the code that might raise an exception. This makes it easier to identify the code that might cause the exception, and makes the code easier to read.\n",
    "4. __Use finally blocks for cleanup:__ Use a finally block to perform cleanup operations, such as closing files or network connections. This ensures that the cleanup operations are performed even if an exception is raised.\n",
    "5. __Use custom exception classes:__ Use custom exception classes to provide more context and information about the error. This can make it easier to debug the code and provide more useful error messages to the user."
   ]
  }
 ],
 "metadata": {
  "kernelspec": {
   "display_name": "Python 3 (ipykernel)",
   "language": "python",
   "name": "python3"
  },
  "language_info": {
   "codemirror_mode": {
    "name": "ipython",
    "version": 3
   },
   "file_extension": ".py",
   "mimetype": "text/x-python",
   "name": "python",
   "nbconvert_exporter": "python",
   "pygments_lexer": "ipython3",
   "version": "3.10.8"
  }
 },
 "nbformat": 4,
 "nbformat_minor": 5
}
